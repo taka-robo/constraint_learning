{
 "cells": [
  {
   "cell_type": "code",
   "execution_count": null,
   "metadata": {},
   "outputs": [],
   "source": [
    "%%writefile -a interpret.py\n",
    "import numpy as np\n",
    "import matplotlib.pylab as plt\n",
    "import pandas as pd\n",
    "from IPython.display import display\n",
    "%reload_ext autoreload\n",
    "%autoreload 2\n",
    "\n",
    "import shutil\n",
    "usetex = True if shutil.which('latex') else False\n",
    "print(\"found latex:\", usetex)\n",
    "plt.rcParams.update({\n",
    "    \"text.usetex\": usetex, \"font.family\": \"DejaVu Sans\", \"font.size\": 12,\n",
    "})\n",
    "plt.rc('text.latex', preamble=r'\\usepackage{bm}')\n",
    "figsize = 7\n",
    "\n",
    "#%matplotlib notebook\n",
    "%matplotlib inline\n",
    "\n",
    "from lifters.plotting_tools import savefig"
   ]
  },
  {
   "cell_type": "code",
   "execution_count": null,
   "metadata": {},
   "outputs": [],
   "source": [
    "%%writefile -a interpret.py\n",
    "from lifters.stereo2d_lifter import Stereo2DLifter   \n",
    "from poly_matrix.poly_matrix import PolyMatrix\n",
    "lifter = Stereo2DLifter(n_landmarks=3)\n",
    "A_known = lifter.get_A_known()\n",
    "\n",
    "data = []\n",
    "for A in A_known:\n",
    "    A_poly = PolyMatrix()\n",
    "    A_poly.init_from_sparse(A, lifter.var_dict, unfold=True)\n",
    "    data.append(A_poly.interpret(lifter.var_dict))\n",
    "df = pd.DataFrame(data)"
   ]
  },
  {
   "cell_type": "code",
   "execution_count": null,
   "metadata": {},
   "outputs": [],
   "source": [
    "%%writefile -a interpret.py\n",
    "df.sort_values(by=list(df.columns), axis=0, inplace=True, na_position=\"last\")\n",
    "df"
   ]
  }
 ],
 "metadata": {
  "kernelspec": {
   "display_name": "venv",
   "language": "python",
   "name": "python3"
  },
  "language_info": {
   "codemirror_mode": {
    "name": "ipython",
    "version": 3
   },
   "file_extension": ".py",
   "mimetype": "text/x-python",
   "name": "python",
   "nbconvert_exporter": "python",
   "pygments_lexer": "ipython3",
   "version": "3.8.10"
  }
 },
 "nbformat": 4,
 "nbformat_minor": 2
}
