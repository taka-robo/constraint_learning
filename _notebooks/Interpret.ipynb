{
 "cells": [
  {
   "cell_type": "code",
   "execution_count": null,
   "metadata": {},
   "outputs": [],
   "source": [
    "import matplotlib.pylab as plt\n",
    "import pandas as pd\n",
    "import numpy as np\n",
    "from IPython.display import display\n",
    "%reload_ext autoreload\n",
    "%autoreload 2\n",
    "\n",
    "import shutil\n",
    "usetex = True if shutil.which('latex') else False\n",
    "print(\"found latex:\", usetex)\n",
    "plt.rcParams.update({\n",
    "    \"text.usetex\": usetex, \"font.family\": \"DejaVu Sans\", \"font.size\": 12,\n",
    "})\n",
    "plt.rc('text.latex', preamble=r'\\usepackage{bm}')\n",
    "figsize = 7\n",
    "\n",
    "#%matplotlib notebook\n",
    "%matplotlib inline\n",
    "\n",
    "import sys\n",
    "sys.path.append('..')\n",
    "\n",
    "from lifters.plotting_tools import savefig"
   ]
  },
  {
   "cell_type": "code",
   "execution_count": null,
   "metadata": {},
   "outputs": [],
   "source": [
    "df = pd.read_pickle(\"../_results/constraints_big_stereo2d_urT.pkl\")\n",
    "df"
   ]
  },
  {
   "cell_type": "code",
   "execution_count": null,
   "metadata": {
    "scrolled": false
   },
   "outputs": [],
   "source": [
    "for noise_seed, df_sub in df.groupby(\"random_noise_seed\"):\n",
    "    fig, ax = plt.subplots()\n",
    "    for i, (_, row) in enumerate(df_sub.iterrows()):\n",
    "        if row.method != \"all\":\n",
    "            continue\n",
    "        color = f\"C{row.shuffle_seed+1}\"\n",
    "        vals = np.array(list(row.costs.values()))\n",
    "        keys = np.array(list(row.costs.keys()))\n",
    "        valid_vals = vals[vals != 0]\n",
    "        valid_keys = keys[vals != 0]\n",
    "        ax.semilogy(valid_keys, valid_vals, marker='o', color=color)\n",
    "        if row.num_constraints is not None:\n",
    "            ax.axvline(row.num_constraints, color=color, ls=\":\")\n",
    "        ax.axhline(row.qcqp_cost, color=color)\n",
    "    ax.set_title(f\"noise seed {noise_seed}\")"
   ]
  },
  {
   "cell_type": "code",
   "execution_count": null,
   "metadata": {},
   "outputs": [],
   "source": [
    "import seaborn as sns\n",
    "sns.scatterplot(df, x=\"num_constraints\", y=\"gap\", style=\"random_noise_seed\", hue=\"shuffle_seed\")"
   ]
  },
  {
   "cell_type": "code",
   "execution_count": null,
   "metadata": {},
   "outputs": [],
   "source": []
  },
  {
   "cell_type": "code",
   "execution_count": null,
   "metadata": {},
   "outputs": [],
   "source": []
  }
 ],
 "metadata": {
  "kernelspec": {
   "display_name": "Python 3 (ipykernel)",
   "language": "python",
   "name": "python3"
  },
  "language_info": {
   "codemirror_mode": {
    "name": "ipython",
    "version": 3
   },
   "file_extension": ".py",
   "mimetype": "text/x-python",
   "name": "python",
   "nbconvert_exporter": "python",
   "pygments_lexer": "ipython3",
   "version": "3.8.10"
  }
 },
 "nbformat": 4,
 "nbformat_minor": 2
}
