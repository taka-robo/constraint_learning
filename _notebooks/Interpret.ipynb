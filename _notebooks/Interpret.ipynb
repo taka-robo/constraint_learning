{
 "cells": [
  {
   "cell_type": "code",
   "execution_count": null,
   "metadata": {},
   "outputs": [],
   "source": [
    "import matplotlib.pylab as plt\n",
    "import pandas as pd\n",
    "import numpy as np\n",
    "from IPython.display import display\n",
    "%reload_ext autoreload\n",
    "%autoreload 2\n",
    "\n",
    "import shutil\n",
    "usetex = True if shutil.which('latex') else False\n",
    "print(\"found latex:\", usetex)\n",
    "plt.rcParams.update({\n",
    "    \"text.usetex\": usetex, \"font.family\": \"DejaVu Sans\", \"font.size\": 12,\n",
    "})\n",
    "plt.rc('text.latex', preamble=r'\\usepackage{bm}')\n",
    "figsize = 7\n",
    "\n",
    "#%matplotlib notebook\n",
    "%matplotlib inline\n",
    "\n",
    "import sys\n",
    "sys.path.append('..')\n",
    "\n",
    "from lifters.plotting_tools import savefig"
   ]
  },
  {
   "cell_type": "code",
   "execution_count": null,
   "metadata": {},
   "outputs": [],
   "source": [
    "df = pd.read_pickle(\"../_results/check_constraints_stereo2d_urT.pkl\")\n",
    "df"
   ]
  },
  {
   "cell_type": "code",
   "execution_count": null,
   "metadata": {
    "scrolled": false
   },
   "outputs": [],
   "source": [
    "for shuffle_seed, df_sub in df.groupby(\"shuffle_seed\"):\n",
    "    fig, ax = plt.subplots()\n",
    "    for i, (_, row) in enumerate(df_sub.iterrows()):\n",
    "        color = f\"C{i}\"\n",
    "        vals = np.array(list(row.costs.values()))\n",
    "        keys = np.array(list(row.costs.keys()))\n",
    "        valid_vals = vals[vals != 0]\n",
    "        valid_keys = keys[vals != 0]\n",
    "        ax.semilogy(valid_keys, valid_vals, marker='o', color=color)\n",
    "        ax.axvline(row.num_constraints, color=color)\n",
    "        ax.axhline(row.qcqp_cost, color=color)"
   ]
  },
  {
   "cell_type": "code",
   "execution_count": null,
   "metadata": {},
   "outputs": [],
   "source": [
    "import seaborn as sns\n",
    "sns.scatterplot(df, x=\"num_constraints\", y=\"gap\", style=\"random_noise_seed\", hue=\"shuffle_seed\")"
   ]
  },
  {
   "cell_type": "code",
   "execution_count": null,
   "metadata": {},
   "outputs": [],
   "source": []
  },
  {
   "cell_type": "code",
   "execution_count": null,
   "metadata": {},
   "outputs": [],
   "source": []
  }
 ],
 "metadata": {
  "kernelspec": {
   "display_name": "Python 3 (ipykernel)",
   "language": "python",
   "name": "python3"
  },
  "language_info": {
   "codemirror_mode": {
    "name": "ipython",
    "version": 3
   },
   "file_extension": ".py",
   "mimetype": "text/x-python",
   "name": "python",
   "nbconvert_exporter": "python",
   "pygments_lexer": "ipython3",
   "version": "3.8.10"
  }
 },
 "nbformat": 4,
 "nbformat_minor": 2
}
