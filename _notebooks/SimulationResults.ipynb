{
 "cells": [
  {
   "cell_type": "code",
   "execution_count": null,
   "id": "750fe09d",
   "metadata": {},
   "outputs": [],
   "source": [
    "import numpy as np\n",
    "import matplotlib.pylab as plt\n",
    "import pandas as pd\n",
    "from IPython.display import display\n",
    "%reload_ext autoreload\n",
    "%autoreload 2\n",
    "\n",
    "import shutil\n",
    "usetex = True if shutil.which('latex') else False\n",
    "print(\"found latex:\", usetex)\n",
    "plt.rcParams.update({\n",
    "    \"text.usetex\": usetex,\n",
    "    \"font.family\": \"DejaVu Sans\",\n",
    "    \"font.size\": 12,\n",
    "})\n",
    "plt.rc('text.latex', preamble=r'\\usepackage{bm}')\n",
    "figsize = 7\n",
    "\n",
    "#%matplotlib notebook\n",
    "%matplotlib inline\n",
    "\n",
    "from lifters.plotting_tools import *\n",
    "\n",
    "#df = pd.read_pickle(\"../_results/study_stereo1d_zero_noise.pkl\")\n",
    "import sys\n",
    "sys.path.append(\"../_scripts/\")\n",
    "from noise_study import NOISE_DICT"
   ]
  },
  {
   "cell_type": "markdown",
   "id": "1b0c50a6",
   "metadata": {},
   "source": [
    "# Constraints study"
   ]
  },
  {
   "cell_type": "code",
   "execution_count": null,
   "id": "36a26d76",
   "metadata": {},
   "outputs": [],
   "source": [
    "df = pd.read_pickle(\"../_results/constraints_big_stereo2d_urT_learned.pkl\")\n",
    "df"
   ]
  },
  {
   "cell_type": "code",
   "execution_count": null,
   "id": "044f81dd",
   "metadata": {
    "scrolled": true
   },
   "outputs": [],
   "source": [
    "markers = {\"all\": \".\", \"bnb\": \"x\"}\n",
    "shuffle_names = {-1: \"by $\\\\lambda$ value\", 0:\"in basis order\"}\n",
    "shuffle_names.update({i: f\"random {i}\" for i in range(1, 10)})\n",
    "for seed, df_sub in df.groupby(\"random_noise_seed\"):\n",
    "    fig, ax = plt.subplots()\n",
    "    fig.set_size_inches(7, 4)\n",
    "    ax.set_title(f\"noise seed {seed}\")\n",
    "    for (method, shuffle), df_row in df_sub.groupby([\"method\",\"shuffle_seed\"]):\n",
    "        if method == \"bnb\":\n",
    "            continue\n",
    "            \n",
    "        color = f\"C{shuffle+1}\"\n",
    "        assert len(df_row) == 1\n",
    "        row = df_row.iloc[0]\n",
    "        ax.scatter(row.costs.keys(), \n",
    "                    row.costs.values(),\n",
    "                    color=color, \n",
    "                    marker=markers[method],\n",
    "                    label=shuffle_names[shuffle])\n",
    "        ax.axvline(row.num_constraints, \n",
    "                    ls=\":\", \n",
    "                    color=color) \n",
    "        ax.axhline(row.dual_cost, ls=\":\", color=color)\n",
    "        \n",
    "        if (shuffle == -1) and (method == \"all\"):\n",
    "            for lamdas in [np.abs(row.lamda), np.cumsum(np.abs(row.lamda))]:\n",
    "                fig2, ax2 = plt.subplots()\n",
    "                fig2.set_size_inches(7, 2)\n",
    "                ax2.scatter(range(len(lamdas)), lamdas, color=color)\n",
    "                ax2.axvline(row.num_constraints, ls=\":\", color=color)\n",
    "                ax2.set_ylabel(\"$\\\\lambda$ value\")\n",
    "                ax2.set_xlabel(\"constraint number\")\n",
    "                ax2.set_xlim(0, len(row.costs))\n",
    "                ax2.grid()\n",
    "    ax.axhline(row.qcqp_cost, ls=\"-\", color=\"k\", label=\"qcqp cost\")\n",
    "    ax.set_yscale(\"log\")\n",
    "    ax.set_xlabel(\"constraint number\")\n",
    "    ax.set_ylabel(\"dual / qcqp cost\")\n",
    "    ax.legend(title=\"ordering\")\n",
    "    ax.set_xlim(0, len(row.costs))\n",
    "    ax.grid()"
   ]
  },
  {
   "cell_type": "code",
   "execution_count": null,
   "id": "b63000be",
   "metadata": {
    "scrolled": false
   },
   "outputs": [],
   "source": [
    "# pd.reset_option(\"display.max_colwidth\")\n",
    "# pd.set_option(\"display.max_rows\", 50)\n",
    "df = pd.read_pickle(\"../_results/constraints_big_stereo2d_urT_details_known.pkl\")\n",
    "#df = pd.read_pickle(\"../_results/constraints_big_stereo2d_urT_details_learned.pkl\")\n",
    "\n",
    "for label in [\"l dual\", \"l optimization\"]:\n",
    "    df.loc[:, label] = np.abs(df[label])\n",
    "df"
   ]
  },
  {
   "cell_type": "code",
   "execution_count": null,
   "id": "6b76ec92",
   "metadata": {},
   "outputs": [],
   "source": [
    "import seaborn as sns\n",
    "fig, ax = plt.subplots()\n",
    "ax.scatter(range(len(df)),sorted(df[\"l optimization\"])[::-1], label=\"optimization\")\n",
    "ax.scatter(range(len(df)),sorted(df[\"l dual\"])[::-1], label=\"dual\")\n",
    "ax.set_yscale(\"log\")\n",
    "ax.legend()"
   ]
  },
  {
   "cell_type": "code",
   "execution_count": null,
   "id": "f6b728e5",
   "metadata": {},
   "outputs": [],
   "source": [
    "fig, ax = plt.subplots()\n",
    "sns.scatterplot(data=df, x=\"l dual\", y=\"l optimization\", hue=\"sparsity\", palette=\"inferno\")\n",
    "ax.set_xscale('log')\n",
    "ax.set_yscale('log')\n",
    "\n",
    "fig, ax = plt.subplots()\n",
    "sns.scatterplot(data=df, x=\"l dual\", y=\"singular values\", hue=\"sparsity\", palette=\"inferno\")\n",
    "ax.set_xscale('log')\n",
    "ax.set_yscale('log')"
   ]
  },
  {
   "cell_type": "code",
   "execution_count": null,
   "id": "8b1eb8a7",
   "metadata": {
    "scrolled": false
   },
   "outputs": [],
   "source": [
    "from IPython.display import display, Math, Latex\n",
    "df.sort_values(by=\"l optimization\", inplace=True, ascending=False)\n",
    "df_small = df.iloc[:30].reset_index()\n",
    "display(df_small)\n",
    "for i, row in df.iloc[:30].iterrows():\n",
    "    display(Latex(row.expression))"
   ]
  },
  {
   "cell_type": "markdown",
   "id": "5157b358",
   "metadata": {},
   "source": [
    "# Noise study"
   ]
  },
  {
   "cell_type": "code",
   "execution_count": null,
   "id": "d82a852b",
   "metadata": {},
   "outputs": [],
   "source": [
    "# just one noise\n",
    "\n",
    "import itertools\n",
    "\n",
    "d_list = [2, 3]\n",
    "\n",
    "noise = 0\n",
    "lifter_types = [\"slam1\", \"slam2\"]\n",
    "appendix = \"\"#\"_sparse\"\n",
    "for d, lifter_type in itertools.product(d_list, lifter_types):\n",
    "        \n",
    "    fig, ax = plt.subplots()\n",
    "    fig.set_size_inches(5, 3)\n",
    "    fig.suptitle(f\"{d}d range {lifter_type}\", y=1.0)\n",
    "    name = f\"study_range{lifter_type}_{d}d_{noise}noise{appendix}\"\n",
    "    try:\n",
    "        fname = f\"../_results/{name}.pkl\"\n",
    "        df = pd.read_pickle(fname)\n",
    "    except:\n",
    "        print(\"didn't find\", fname)\n",
    "        print(f\"no results yet for {name} (looked at {fname})\")\n",
    "        continue\n",
    "\n",
    "    if len(df) == 0:\n",
    "        print(f\"no data for {name}\")\n",
    "        continue\n",
    "    df[\"dual cost\"] = df[\"dual cost\"].abs()\n",
    "\n",
    "    plot_tightness(df, ax=ax)\n",
    "    ax.legend([])\n",
    "    ax.set_title(f\"noise {NOISE_DICT[noise]:.0g}\")\n",
    "    ax.set_xlabel(\"constraints added\")\n",
    "    savefig(fig, f\"../_plots/study_range{lifter_type}_{d}d_noise{appendix}.png\")"
   ]
  },
  {
   "cell_type": "code",
   "execution_count": null,
   "id": "4ac08b26",
   "metadata": {},
   "outputs": [],
   "source": [
    "import itertools\n",
    "\n",
    "d_list = [2, 3]\n",
    "#d_list = [3]\n",
    "noise_list = list(NOISE_DICT.keys())[:5]\n",
    "lifter_types = [\"slam1\"]\n",
    "for d, lifter_type in itertools.product(d_list, lifter_types):\n",
    "        \n",
    "    fig, axs = plt.subplots(1, len(noise_list), sharey=True, sharex=True, squeeze=False)\n",
    "    axs = axs.flatten()\n",
    "    fig.set_size_inches(len(noise_list)*3, 3)\n",
    "    fig.suptitle(f\"{d}d range {lifter_type}\", y=1.0)\n",
    "    for ax, noise in zip(axs, noise_list):\n",
    "    \n",
    "        name = f\"study_range{lifter_type}_{d}d_{noise}noise\"\n",
    "        try:\n",
    "            fname = f\"../_results/{name}.pkl\"\n",
    "            df = pd.read_pickle(fname)\n",
    "        except:\n",
    "            print(\"didn't find\", fname)\n",
    "            print(f\"no results yet for {name}\")\n",
    "            continue\n",
    "            \n",
    "        if len(df) == 0:\n",
    "            print(f\"no data for {name}\")\n",
    "            continue\n",
    "\n",
    "        plot_tightness(df, ax=ax)\n",
    "        ax.legend([])\n",
    "        ax.set_title(f\"noise {NOISE_DICT[noise]:.0g}\")\n",
    "        ax.set_xlabel(\"constraints added\")\n",
    "    savefig(fig, f\"../_plots/study_range{lifter_type}_{d}d_noise.png\")"
   ]
  },
  {
   "cell_type": "code",
   "execution_count": null,
   "id": "96505fff",
   "metadata": {
    "scrolled": false
   },
   "outputs": [],
   "source": [
    "#df = pd.read_pickle(\"../_results/study_stereo1d_zero_noise.pkl\")\n",
    "import sys\n",
    "sys.path.append(\"../_scripts/\")\n",
    "from noise_study import NOISE_DICT\n",
    "\n",
    "import itertools\n",
    "\n",
    "d_list = [1, 2, 3]\n",
    "#d_list = [3]\n",
    "noise_list = list(NOISE_DICT.keys())[:5]\n",
    "level_list = [\"no\", \"urT\"]\n",
    "for d, level in itertools.product(d_list, level_list):\n",
    "    if d in [1] and level == \"urT\":\n",
    "        continue\n",
    "        \n",
    "    fig, axs = plt.subplots(1, len(noise_list), sharey=True, sharex=True, squeeze=False)\n",
    "    axs = axs.flatten()\n",
    "    fig.set_size_inches(len(noise_list)*3, 3)\n",
    "    fig.suptitle(f\"{d}d stereo, Lassere level {level}\", y=1.0)\n",
    "    for ax, noise in zip(axs, noise_list):\n",
    "    \n",
    "        name = f\"study_stereo{d}d_{noise}noise_{level}level\"\n",
    "        try:\n",
    "            fname = f\"../_results/{name}.pkl\"\n",
    "            df = pd.read_pickle(fname)\n",
    "            print(\"read\", fname)\n",
    "        except:\n",
    "            print(\"didn't find\", fname)\n",
    "            print(f\"no results yet for {name}\")\n",
    "            continue\n",
    "            \n",
    "        if len(df) == 0:\n",
    "            print(f\"no data for {name}\")\n",
    "            continue\n",
    "\n",
    "        plot_tightness(df, ax=ax)\n",
    "        ax.legend([])\n",
    "        ax.set_title(f\"noise {NOISE_DICT[noise]:.0g}\")\n",
    "        ax.set_xlabel(\"constraints added\")\n",
    "    \n",
    "    \n",
    "    savefig(fig, f\"../_plots/study_stereo{d}d_noise_{level}.png\")"
   ]
  },
  {
   "cell_type": "markdown",
   "id": "f5128278",
   "metadata": {},
   "source": [
    "# Scaling study"
   ]
  },
  {
   "cell_type": "code",
   "execution_count": null,
   "id": "387d6724",
   "metadata": {},
   "outputs": [],
   "source": [
    "def poly_label(coeffs, xlabel=\"x\"):\n",
    "    label = \"\"\n",
    "    for i, c in enumerate(coeffs):\n",
    "        deg = len(coeffs) - i\n",
    "        if deg > 1:\n",
    "            if abs(c) > 1e-10:\n",
    "                label += f\"{c:.1f}${xlabel}^{deg}$ + \"\n",
    "        elif deg == 1:\n",
    "            if abs(c) > 1e-10:\n",
    "                label += f\"{c:.1f}${xlabel}$ + \"\n",
    "        else:\n",
    "            label += f\"{c:.1f}\"\n",
    "    return label"
   ]
  },
  {
   "cell_type": "code",
   "execution_count": null,
   "id": "2a8831c6",
   "metadata": {
    "scrolled": false
   },
   "outputs": [],
   "source": [
    "from scipy.optimize import curve_fit\n",
    "from lifters.plotting_tools import savefig\n",
    "\n",
    "plot_labels = [\"variables\", \"redundant constraints\", \"moment constraints\", \"total constraints\"]\n",
    "groupby = [\"d\"]\n",
    "x_name = \"landmarks\"\n",
    "x_label = \"K\"\n",
    "\n",
    "for name, level in zip([\"stereo_study\", \"stereo_study_lasserre\"],\n",
    "                       [\"no\", \"urT\"]):\n",
    "    df = pd.read_pickle(f\"../_results/{name}.pkl\") # added extra constraints\n",
    "\n",
    "    df[\"total constraints\"] = df[\"found\"]\n",
    "    df[\"moment constraints\"] = df[\"substitutions\"]\n",
    "    df[\"redundant constraints\"] = df[\"total constraints\"] - df[\"moment constraints\"]\n",
    "    df.drop([\"found\", \"substitutions\", \"known\"], axis=1, inplace=True)\n",
    "\n",
    "    #display(df)\n",
    "    \n",
    "    for group, df_group in df.groupby(groupby):\n",
    "        #display(df_group)\n",
    "        x = df_group[x_name].unique()\n",
    "\n",
    "        fig, ax = plt.subplots()\n",
    "        for i, label in enumerate(plot_labels):\n",
    "            y = np.r_[df_group[label]]\n",
    "            ax.plot(x, y, label=label, color=f\"C{i+1}\")\n",
    "\n",
    "            coeffs = np.polyfit(x, y, 2)\n",
    "            #coeffs = np.round(coeffs, 0)\n",
    "            poly = np.poly1d(coeffs)\n",
    "            label= poly_label(poly, xlabel=x_label) #f\"{coeffs[0]:.1f}$x^2$ + {coeffs[1]:.1f}$x$ + {coeffs[2]:.1f}\"\n",
    "            ax.plot(x, poly(x), label=label, ls=\"\", marker='o', color=f\"C{i+1}\")\n",
    "        ax.legend(loc=\"upper left\")\n",
    "        ax.set_xlabel(f\"{x_name} ${x_label}$\")\n",
    "        ax.set_xticks(x)\n",
    "        dim=','.join([f\"{v}{k}\" for k, v in zip(groupby, [group])])\n",
    "        title=f\"{dim} with {level} Lasserre\"\n",
    "        ax.set_title(title)\n",
    "        ax.grid()\n",
    "        savefig(fig, f\"../_plots/study_stereo{dim}_{level}.png\")"
   ]
  },
  {
   "cell_type": "markdown",
   "id": "fe88082f",
   "metadata": {},
   "source": [
    "# Next experiments"
   ]
  },
  {
   "cell_type": "code",
   "execution_count": null,
   "id": "e4071f41",
   "metadata": {},
   "outputs": [],
   "source": []
  }
 ],
 "metadata": {
  "kernelspec": {
   "display_name": "Python 3 (ipykernel)",
   "language": "python",
   "name": "python3"
  },
  "language_info": {
   "codemirror_mode": {
    "name": "ipython",
    "version": 3
   },
   "file_extension": ".py",
   "mimetype": "text/x-python",
   "name": "python",
   "nbconvert_exporter": "python",
   "pygments_lexer": "ipython3",
   "version": "3.8.10"
  }
 },
 "nbformat": 4,
 "nbformat_minor": 5
}
