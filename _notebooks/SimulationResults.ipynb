{
 "cells": [
  {
   "cell_type": "code",
   "execution_count": null,
   "id": "750fe09d",
   "metadata": {},
   "outputs": [],
   "source": [
    "import numpy as np\n",
    "import matplotlib.pylab as plt\n",
    "import pandas as pd\n",
    "from IPython.display import display\n",
    "%reload_ext autoreload\n",
    "%autoreload 2\n",
    "\n",
    "import shutil\n",
    "usetex = True if shutil.which('latex') else False\n",
    "print(\"found latex:\", usetex)\n",
    "plt.rcParams.update({\n",
    "    \"text.usetex\": usetex,\n",
    "    \"font.family\": \"DejaVu Sans\",\n",
    "    \"font.size\": 12,\n",
    "})\n",
    "plt.rc('text.latex', preamble=r'\\usepackage{bm}')\n",
    "figsize = 7\n",
    "\n",
    "#%matplotlib notebook\n",
    "%matplotlib inline\n",
    "\n",
    "from lifters.plotting_tools import *"
   ]
  },
  {
   "cell_type": "markdown",
   "id": "5157b358",
   "metadata": {},
   "source": [
    "# Noise study"
   ]
  },
  {
   "cell_type": "code",
   "execution_count": null,
   "id": "96505fff",
   "metadata": {},
   "outputs": [],
   "source": [
    "#df = pd.read_pickle(\"../_results/study_stereo1d_zero_noise.pkl\")\n",
    "import sys\n",
    "sys.path.append(\"../_scripts/\")\n",
    "from noise_study import NOISE_DICT\n",
    "\n",
    "import itertools\n",
    "\n",
    "#d_list = [1, 2, 3]\n",
    "d_list = [3]\n",
    "noise_list = list(NOISE_DICT.keys())[:5]\n",
    "level_list = [0, 3]\n",
    "for d, level in itertools.product(d_list, level_list):\n",
    "    if d == 1 and level == 3:\n",
    "        continue\n",
    "        \n",
    "    fig, axs = plt.subplots(1, len(noise_list), sharey=True, sharex=True)\n",
    "    fig.set_size_inches(len(noise_list)*3, 3)\n",
    "    fig.suptitle(f\"{d}d stereo, Lassere level {level}\", y=1.0)\n",
    "    for ax, noise in zip(axs, noise_list):\n",
    "    \n",
    "        name = f\"study_stereo{d}d_{noise}noise_{level}level\"\n",
    "        try:\n",
    "            df = pd.read_pickle(f\"../_results/{name}.pkl\")\n",
    "        except:\n",
    "            print(f\"no results yet for {name}\")\n",
    "            continue\n",
    "            \n",
    "        if len(df) == 0:\n",
    "            print(f\"no data for {name}\")\n",
    "            continue\n",
    "\n",
    "        plot_tightness(df, ax=ax)\n",
    "        ax.legend([])\n",
    "        ax.set_title(f\"noise {NOISE_DICT[noise]:.0g}\")\n",
    "        ax.set_xlabel(\"constraints added\")\n",
    "    \n",
    "    savefig(fig, f\"../_plots/stereo_study_noise_{d}d_{level}level\")"
   ]
  },
  {
   "cell_type": "markdown",
   "id": "f5128278",
   "metadata": {},
   "source": [
    "# Scaling study"
   ]
  },
  {
   "cell_type": "code",
   "execution_count": null,
   "id": "387d6724",
   "metadata": {},
   "outputs": [],
   "source": [
    "def poly_label(coeffs, xlabel=\"x\"):\n",
    "    label = \"\"\n",
    "    for i, c in enumerate(coeffs):\n",
    "        deg = len(coeffs) - i\n",
    "        if deg > 1:\n",
    "            if abs(c) > 1e-10:\n",
    "                label += f\"{c:.1f}${xlabel}^{deg}$ + \"\n",
    "        elif deg == 1:\n",
    "            if abs(c) > 1e-10:\n",
    "                label += f\"{c:.1f}${xlabel}$ + \"\n",
    "        else:\n",
    "            label += f\"{c:.1f}\"\n",
    "    return label"
   ]
  },
  {
   "cell_type": "code",
   "execution_count": null,
   "id": "2a8831c6",
   "metadata": {
    "scrolled": false
   },
   "outputs": [],
   "source": [
    "from scipy.optimize import curve_fit\n",
    "from lifters.plotting_tools import savefig\n",
    "\n",
    "plot_labels = [\"variables\", \"redundant constraints\", \"moment constraints\", \"total constraints\"]\n",
    "groupby = [\"d\"]\n",
    "x_name = \"landmarks\"\n",
    "x_label = \"K\"\n",
    "\n",
    "for name in [\"stereo_study\", \"stereo_study_lasserre\"]:\n",
    "    df = pd.read_pickle(f\"../_results/{name}.pkl\") # added extra constraints\n",
    "\n",
    "    df[\"total constraints\"] = df[\"found\"]\n",
    "    df[\"moment constraints\"] = df[\"substitutions\"]\n",
    "    df[\"redundant constraints\"] = df[\"total constraints\"] - df[\"moment constraints\"]\n",
    "    df.drop([\"found\", \"substitutions\", \"known\"], axis=1, inplace=True)\n",
    "\n",
    "    #display(df)\n",
    "    \n",
    "    for group, df_group in df.groupby(groupby):\n",
    "        display(df_group)\n",
    "        x = df_group[x_name].unique()\n",
    "\n",
    "        fig, ax = plt.subplots()\n",
    "        for i, label in enumerate(plot_labels):\n",
    "            y = np.r_[df_group[label]]\n",
    "            ax.plot(x, y, label=label, color=f\"C{i+1}\")\n",
    "\n",
    "            coeffs = np.polyfit(x, y, 2)\n",
    "            #coeffs = np.round(coeffs, 0)\n",
    "            poly = np.poly1d(coeffs)\n",
    "            label= poly_label(poly, xlabel=x_label) #f\"{coeffs[0]:.1f}$x^2$ + {coeffs[1]:.1f}$x$ + {coeffs[2]:.1f}\"\n",
    "            ax.plot(x, poly(x), label=label, ls=\"\", marker='o', color=f\"C{i+1}\")\n",
    "        ax.legend(loc=\"upper left\")\n",
    "        ax.set_xlabel(f\"{x_name} ${x_label}$\")\n",
    "        ax.set_xticks(x)\n",
    "        title=','.join([f\"{v}{k}\" for k, v in zip(groupby, [group])])\n",
    "        ax.set_title(title)\n",
    "        ax.grid()\n",
    "        savefig(fig, f\"../_plots/{name}_{title}.png\")"
   ]
  },
  {
   "cell_type": "markdown",
   "id": "fe88082f",
   "metadata": {},
   "source": [
    "# Next experiments"
   ]
  },
  {
   "cell_type": "code",
   "execution_count": null,
   "id": "e4071f41",
   "metadata": {},
   "outputs": [],
   "source": []
  }
 ],
 "metadata": {
  "kernelspec": {
   "display_name": "Python 3 (ipykernel)",
   "language": "python",
   "name": "python3"
  },
  "language_info": {
   "codemirror_mode": {
    "name": "ipython",
    "version": 3
   },
   "file_extension": ".py",
   "mimetype": "text/x-python",
   "name": "python",
   "nbconvert_exporter": "python",
   "pygments_lexer": "ipython3",
   "version": "3.10.9"
  }
 },
 "nbformat": 4,
 "nbformat_minor": 5
}
