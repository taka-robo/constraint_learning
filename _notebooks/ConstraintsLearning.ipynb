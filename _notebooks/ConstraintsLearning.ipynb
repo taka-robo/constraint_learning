{
 "cells": [
  {
   "cell_type": "markdown",
   "id": "9b02e2db",
   "metadata": {},
   "source": [
    "# Constraints Learning\n",
    "\n",
    "Assume you have an optimization problem written in terms of $\\mathbf{\\theta}$:\n",
    "\n",
    "$\\min_{\\mathbf{\\theta}} f(\\mathbf{\\theta})$\n",
    "\n",
    "where $f$ maybe be for instance a polynomial or a rationial function, and $\\theta \\in \\mathbb{R}^N$ may be multidimensional. We assume that you can write the above problem in an quivalent QCQP form by using a \"lifting function\" $\\mathbf{l}(\\theta) \\in \\mathbb{R}^M$ and defining the hihger-dimensional lifted state vector\n",
    "\n",
    "$\\mathbf{x}(\\theta) = \\begin{bmatrix}1 \\\\ \\theta \\\\ z_1 \\\\ \\vdots \\\\ z_M \\end{bmatrix} = \n",
    "\\begin{bmatrix}1 \\\\ \\theta \\\\ \\mathbf{l}(\\theta) \\end{bmatrix} \\in \\mathbb{R}^{1+N+M}$ \n",
    "\n",
    "Now we assume that each of the added constraints can itself be written as a quadratic function: \n",
    "\n",
    "$l_m(\\theta) - z_m = \\mathbf{x}(\\theta)^\\top \\mathbf{A}_m \\mathbf{x}(\\theta) = 0$\n",
    "\n",
    "where $\\mathbf{A}_m$ ($m=1\\ldots M$) are the constraints matrices. \n",
    "Sometimes, there may also exist redundant constraints, meaning some other matrices such that\n",
    "\n",
    "$\\mathbf{x}(\\theta)^\\top \\mathbf{B}_m \\mathbf{x}(\\theta) = 0$. \n",
    "\n",
    "The goal of this not is to, for a given lifting function $\\mathbf{l}(\\theta)$, find the form of the redundant vs. primal constraints. \n",
    "\n",
    "**note that currently we just find all constraints and don't distinguish between primal (moment) constraints and redundant constraints**"
   ]
  },
  {
   "cell_type": "code",
   "execution_count": null,
   "id": "3cc93763",
   "metadata": {},
   "outputs": [],
   "source": [
    "import numpy as np\n",
    "import matplotlib.pylab as plt\n",
    "import pandas as pd\n",
    "from IPython.display import display\n",
    "%reload_ext autoreload\n",
    "%autoreload 2\n",
    "\n",
    "import shutil\n",
    "usetex = True if shutil.which('latex') else False\n",
    "print(\"found latex:\", usetex)\n",
    "plt.rcParams.update({\n",
    "    \"text.usetex\": usetex,\n",
    "    \"font.family\": \"DejaVu Sans\",\n",
    "    \"font.size\": 12,\n",
    "})\n",
    "plt.rc('text.latex', preamble=r'\\usepackage{bm}')\n",
    "figsize = 7\n",
    "\n",
    "#%matplotlib notebook\n",
    "%matplotlib inline\n",
    "\n",
    "from lifters.plotting_tools import savefig\n"
   ]
  },
  {
   "cell_type": "markdown",
   "id": "f6a142b1",
   "metadata": {},
   "source": [
    "\n",
    "# 0. Generate lifting functions\n",
    "\n",
    "Currently implemented setups:\n",
    "- Poly4Lifter \n",
    "- Poly6Lifter \n",
    "- RangeOnlyLifter  \n",
    "- PoseLandmarkLifter \n",
    "- Stereo1DLifter \n",
    "- Stereo2DLifter \n",
    "- Stereo3DLifter "
   ]
  },
  {
   "cell_type": "code",
   "execution_count": null,
   "id": "9eaf6933",
   "metadata": {
    "tags": [
     "parameters"
    ]
   },
   "outputs": [],
   "source": [
    "save = 1\n",
    "lifter_type = \"poly\"\n",
    "#lifter_type = \"range\" \n",
    "#lifter_type = \"stereo\"\n",
    "d = 6\n",
    "level = \"urT\" # see StereoLifter.LEVELS for possible Lasserre levels.\n",
    "n_landmarks = 3"
   ]
  },
  {
   "cell_type": "code",
   "execution_count": null,
   "id": "ac4e7849",
   "metadata": {},
   "outputs": [],
   "source": [
    "from lifters.custom_lifters import Poly4Lifter, Poly6Lifter, RangeOnlyLifter\n",
    "from lifters.stereo1d_lifter import Stereo1DLifter\n",
    "from lifters.stereo2d_lifter import Stereo2DLifter\n",
    "from lifters.stereo3d_lifter import Stereo3DLifter\n",
    "lifter = None\n",
    "if lifter_type == \"range\":\n",
    "    lifter = RangeOnlyLifter(n_landmarks=n_landmarks, d=d)\n",
    "elif lifter_type == \"poly\":\n",
    "    if d == 4:\n",
    "        lifter = Poly4Lifter()\n",
    "    elif d == 6:\n",
    "        lifter = Poly6Lifter()\n",
    "# stereo examples, working\n",
    "elif lifter_type == \"stereo\":\n",
    "    if d == 1:\n",
    "        lifter = Stereo1DLifter(n_landmarks=n_landmarks)\n",
    "    elif d == 2:\n",
    "        lifter = Stereo2DLifter(n_landmarks=n_landmarks, level=level)\n",
    "    elif d == 3:\n",
    "        lifter = Stereo3DLifter(n_landmarks=n_landmarks, level=level)\n",
    "if lifter is None:\n",
    "    raise ValueError(lifter_type, level, d)\n",
    "#from lifters.landmark_lifter import PoseLandmarkLifter\n",
    "# just finds the moment constraint:\n",
    "#lifter = PoseLandmarkLifter(n_landmarks=2, n_poses=1, d=2)"
   ]
  },
  {
   "cell_type": "markdown",
   "id": "6bd9f9fb",
   "metadata": {},
   "source": [
    "# 1. \"learn\" constraints matrices\n",
    "\n",
    "The idea is to learn the nullspace of the matrix composed of many randomly generated feasible and lifted points."
   ]
  },
  {
   "cell_type": "code",
   "execution_count": null,
   "id": "0281872f",
   "metadata": {},
   "outputs": [],
   "source": [
    "t = lifter.get_theta()\n",
    "x = lifter.get_x(t)\n",
    "print(\"unknowns shape\", lifter.unknowns.shape)\n",
    "print(\"theta shape\", t.shape)\n",
    "print(\"x shape\", x.shape)"
   ]
  },
  {
   "cell_type": "code",
   "execution_count": null,
   "id": "d2c31691",
   "metadata": {},
   "outputs": [],
   "source": [
    "# generate many random setups and collect in matrix Y\n",
    "Y = lifter.generate_Y(factor=3)\n",
    "print(\"shape of setup matrix Y:\", Y.shape)"
   ]
  },
  {
   "cell_type": "code",
   "execution_count": null,
   "id": "f5f71bac",
   "metadata": {},
   "outputs": [],
   "source": [
    "from lifters.plotting_tools import plot_singular_values\n",
    "# compute nullspace of Y\n",
    "\n",
    "method = \"qr\"\n",
    "eps = 1e-4\n",
    "basis, S = lifter.get_basis(Y, method=method, eps=eps)\n",
    "print(\"nullspace basis:\", basis.shape)\n",
    "\n",
    "fig, ax = plot_singular_values(S, eps)\n",
    "#if save:\n",
    "#    savefig(fig, f\"../_plots/svd_{lifter}.png\")"
   ]
  },
  {
   "cell_type": "code",
   "execution_count": null,
   "id": "fb4f690a",
   "metadata": {},
   "outputs": [],
   "source": [
    "A_known = lifter.get_A_known()\n",
    "for Ai in A_known:\n",
    "    x = lifter.get_x(lifter.get_theta())\n",
    "    assert abs(x.T @ Ai @ x) <= 1e-10"
   ]
  },
  {
   "cell_type": "code",
   "execution_count": null,
   "id": "feb2cf95",
   "metadata": {},
   "outputs": [],
   "source": [
    "# generate matrices from found nullspace\n",
    "\n",
    "eps = 1e-5\n",
    "A_list = lifter.generate_matrices(basis)\n",
    "\n",
    "max_error = -np.inf\n",
    "\n",
    "# testing only:\n",
    "# make sure all constraints hold for new setups \n",
    "from lifters.stereo_lifter import get_theta_from_unknowns\n",
    "\n",
    "for seed in range(1000):\n",
    "    np.random.seed(seed)\n",
    "    unknowns = lifter.generate_random_unknowns(replace=False)\n",
    "    x = lifter.get_x(unknowns)\n",
    "    \n",
    "    for i, A in enumerate(A_list):\n",
    "        ci = np.abs(x.T @ A @ x)\n",
    "        max_error = max(max_error, ci)\n",
    "        #if seed == 0:\n",
    "            #print(f\"error of matrix {i}: {ci:.1e}\")\n",
    "        #if ci > eps:\n",
    "        #    print(f\"!! big error for seed {seed}, matrix {i}: {ci:.1e}\")\n",
    "print(\"max constraint error:\", max_error)"
   ]
  },
  {
   "cell_type": "code",
   "execution_count": null,
   "id": "f7aee534",
   "metadata": {},
   "outputs": [],
   "source": [
    "from lifters.plotting_tools import partial_plot_and_save\n",
    "Q, y = lifter.get_Q()\n",
    "partial_plot_and_save(lifter, Q, A_list, save=False)"
   ]
  },
  {
   "cell_type": "markdown",
   "id": "e7f02038",
   "metadata": {},
   "source": [
    "# 2. Solve dual problem\n",
    "\n",
    "Using the learned matrices, we solve the dual problem\n",
    "\n",
    "$\n",
    "\\begin{align} \n",
    "d_n^* = &\\max_{\\rho, \\mathbf{\\lambda}} -\\rho \\\\\n",
    "&\\text{s.t. } \\mathbf{Q} + \\sum_{m=1}^n \\lambda_m \\mathbf{A}_m + \\rho \\mathbf{A}_0 \\succeq 0\n",
    "\\end{align}\n",
    "$\n",
    "\n",
    "where $n \\leq N_0$ denotes the number of constraints we are adding\n",
    "and compare the obtained cost to the cost of the (hopefully globally optimal) solution obtain by solving the original problem with a simple local solver:\n",
    "\n",
    "$\n",
    "\\begin{align}\n",
    "q^* &= \\min_{\\mathbf{\\theta}} f(\\mathbf{\\theta})\n",
    "\\end{align}\n",
    "$"
   ]
  },
  {
   "cell_type": "code",
   "execution_count": null,
   "id": "c976764a",
   "metadata": {},
   "outputs": [],
   "source": [
    "#df = pd.read_pickle(\"../_results/study_stereo1d_zero_noise.pkl\")\n",
    "import sys\n",
    "sys.path.append(\"../_scripts/\")\n",
    "from noise_study import run_noise_study\n",
    "\n",
    "params = dict(noise=1e-1, n_seeds=2, n_shuffles=0)\n",
    "df = run_noise_study(lifter, A_list, **params)\n",
    "#display(df)\n",
    "#name = \"study_stereo3d_mediumnoise_3level\"\n",
    "#df = pd.read_pickle(f\"../_results/{name}.pkl\")"
   ]
  },
  {
   "cell_type": "code",
   "execution_count": null,
   "id": "12a8183c",
   "metadata": {},
   "outputs": [],
   "source": [
    "from lifters.plotting_tools import plot_tightness\n",
    "fig, ax = plot_tightness(df)\n",
    "if save:\n",
    "    savefig(fig, f\"../_plots/tightness_{lifter}.png\")"
   ]
  },
  {
   "cell_type": "code",
   "execution_count": null,
   "id": "cd0c6e9a",
   "metadata": {},
   "outputs": [],
   "source": [
    "n_eigs = 5\n",
    "palette = \"viridis\"\n",
    "for seed, df_seed in df.groupby(\"seed\"):\n",
    "    fig, ax = plt.subplots()\n",
    "    cmap = plt.get_cmap(lut=len(df_seed.n.unique()), name=palette)\n",
    "    df_seed = df_seed[df_seed.shuffle==0]\n",
    "    for (n, shuffle), df_n in df_seed.groupby([\"n\", \"shuffle\"]):\n",
    "        assert len(df_n) == 1\n",
    "        row = df_n.iloc[0]\n",
    "        label = f\"n={row.n}\"\n",
    "        if row.eigs is not None:\n",
    "            ax.plot(row.eigs[:n_eigs], color=cmap(n), label=label)\n",
    "            label = None\n",
    "    ax.set_title(f\"smallest {n_eigs} eigenvalues of H\")\n",
    "    ax.set_xticks(range(n_eigs))\n",
    "    #ax.legend()\n",
    "    ax.set_yscale(\"symlog\")\n",
    "    break"
   ]
  },
  {
   "cell_type": "markdown",
   "id": "fe88082f",
   "metadata": {},
   "source": [
    "# 4. Next steps\n",
    "\n",
    "- Using the $A_m$ that we know, try to complete the basis, so that it stays sparse. "
   ]
  },
  {
   "cell_type": "code",
   "execution_count": null,
   "id": "e4071f41",
   "metadata": {},
   "outputs": [],
   "source": []
  }
 ],
 "metadata": {
  "kernelspec": {
   "display_name": "Python 3 (ipykernel)",
   "language": "python",
   "name": "python3"
  },
  "language_info": {
   "codemirror_mode": {
    "name": "ipython",
    "version": 3
   },
   "file_extension": ".py",
   "mimetype": "text/x-python",
   "name": "python",
   "nbconvert_exporter": "python",
   "pygments_lexer": "ipython3",
   "version": "3.10.9"
  }
 },
 "nbformat": 4,
 "nbformat_minor": 5
}
